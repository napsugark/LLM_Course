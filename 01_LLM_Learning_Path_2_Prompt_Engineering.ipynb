{
  "nbformat": 4,
  "nbformat_minor": 0,
  "metadata": {
    "colab": {
      "provenance": [],
      "private_outputs": true,
      "toc_visible": true,
      "include_colab_link": true
    },
    "kernelspec": {
      "name": "python3",
      "display_name": "Python 3"
    },
    "language_info": {
      "name": "python"
    }
  },
  "cells": [
    {
      "cell_type": "markdown",
      "metadata": {
        "id": "view-in-github",
        "colab_type": "text"
      },
      "source": [
        "<a href=\"https://colab.research.google.com/github/napsugark/LLM_Course/blob/main/01_LLM_Learning_Path_2_Prompt_Engineering.ipynb\" target=\"_parent\"><img src=\"https://colab.research.google.com/assets/colab-badge.svg\" alt=\"Open In Colab\"/></a>"
      ]
    },
    {
      "cell_type": "markdown",
      "source": [
        "\n",
        "# **Prompt Engineering**"
      ],
      "metadata": {
        "id": "rV1AILhzELgM"
      }
    },
    {
      "cell_type": "markdown",
      "source": [
        "# Concepts to know\n"
      ],
      "metadata": {
        "id": "e0wrBqMsEJcC"
      }
    },
    {
      "cell_type": "markdown",
      "source": [
        "At the end of this module you should have an understanding of the following concepts:"
      ],
      "metadata": {
        "id": "l3sRWgYl0PlV"
      }
    },
    {
      "cell_type": "markdown",
      "source": [
        "- System Prompt\n",
        "- Chain of Thought\n",
        "- Few-Shot-Prompting\n",
        "- Prompt Chaining\n",
        "- Prompt Caching\n",
        "- Temperature\n",
        "- Top P\n",
        "- Presence/Frequency penalty\n",
        "- Structured Output\n",
        "- Function calling\n"
      ],
      "metadata": {
        "id": "_OnPDWm577oq"
      }
    },
    {
      "cell_type": "markdown",
      "source": [
        "# Materials\n"
      ],
      "metadata": {
        "id": "7AIipnHRDvgr"
      }
    },
    {
      "cell_type": "markdown",
      "source": [
        "### Mandatory\n",
        "\n",
        "Introduction course to Prompt Engineering:\n",
        "\n",
        "- https://www.coursera.org/projects/chatgpt-prompt-engineering-for-developers-project#outcomes\"\n",
        "\n",
        "Prompting guide (go through the Introduction Section and explore some of the Prompting Techniques):\n",
        "\n",
        "- https://www.promptingguide.ai/\n",
        "\n",
        "Prompt Caching:\n",
        "- https://learn.microsoft.com/en-us/azure/ai-services/openai/how-to/prompt-caching\n"
      ],
      "metadata": {
        "id": "UnKyGLJ_8IKQ"
      }
    },
    {
      "cell_type": "markdown",
      "source": [
        "### Optional"
      ],
      "metadata": {
        "id": "HB4FFCSOQvvi"
      }
    },
    {
      "cell_type": "markdown",
      "source": [
        "General resources on prompting:\n",
        "\n",
        "- https://fvivas.com/en/19-formulas-and-prompt-structures-for-chatgpt/\n",
        "- https://learn.microsoft.com/en-us/azure/ai-services/openai/concepts/prompt-engineering?tabs=chat\n",
        "\n",
        "\n",
        "OpenAI Parameters:\n",
        "\n",
        "- https://www.prompthub.us/blog/understanding-openai-parameters-how-to-optimize-your-prompts-for-better-outputs\n",
        "\n",
        "Azure OpenAI APIs:\n",
        "\n",
        "- https://learn.microsoft.com/en-us/azure/ai-services/openai/how-to/function-calling\n",
        "- https://learn.microsoft.com/en-us/azure/ai-services/openai/how-to/structured-outputs?tabs=python-secure"
      ],
      "metadata": {
        "id": "KtCgV7MZQ0xf"
      }
    },
    {
      "cell_type": "markdown",
      "source": [
        "# Azure Playground Assignments\n",
        "\n"
      ],
      "metadata": {
        "id": "DJMnqKVXEXPF"
      }
    },
    {
      "cell_type": "markdown",
      "source": [
        "You will complete the assignments in this sections in the Azure Playground. This is a UI layer around the Azure OpenAI endpoints that let's you build and experiment quickly with simple setups.\n",
        "\n",
        "For the assignments 1-5 you will need to use Playgrounds - Chat Section, for the last assignment move to the Playgrounds Assistants Section.\n",
        "\n",
        "Go to the [Azure Playground](https://ai.azure.com/resource/playground?wsid=/subscriptions/6f636525-4ca3-4447-841d-59b771d713b5/resourceGroups/MLResearch/providers/Microsoft.CognitiveServices/accounts/llm-learning-path&tid=39affebe-f048-4c77-ba6b-90cd8be22d25&deploymentId=/subscriptions/6f636525-4ca3-4447-841d-59b771d713b5/resourceGroups/MLResearch/providers/Microsoft.CognitiveServices/accounts/llm-learning-path/deployments/gpt-4o-mini). If you have any problems accessing the playground, please let your mentors know.\n",
        "\n"
      ],
      "metadata": {
        "id": "4c1gypwG73z8"
      }
    },
    {
      "cell_type": "markdown",
      "source": [
        "To help you get started in the playground and its functionalities, you can refer to this [guide](https://learn.microsoft.com/en-us/azure/ai-services/openai/chatgpt-quickstart?tabs=command-line%2Ckeyless%2Ctypescript-keyless%2Cpython-new&pivots=programming-language-studio)."
      ],
      "metadata": {
        "id": "PcKcnZN36GXr"
      }
    },
    {
      "cell_type": "markdown",
      "source": [
        "1. Define a chatbot that is only answering questions related to tourist attractions in your favourite holiday destinations. For any off-topic questions he should reply with \"I don't know about that\". Then, try to trick him into answering other questions.\n"
      ],
      "metadata": {
        "id": "fRzCJ0NdMXol"
      }
    },
    {
      "cell_type": "code",
      "source": [
        "# You are an AI assistant that answers questions related to tourist attractions in holiday destinations.\n",
        "# If the question is not related to the above topic, you should reply with \"I don't know about that.\""
      ],
      "metadata": {
        "id": "DnyiPCQCoosH"
      },
      "execution_count": null,
      "outputs": []
    },
    {
      "cell_type": "markdown",
      "source": [
        "2. Introduce a variable in the system prompt to change the response into any language.\n"
      ],
      "metadata": {
        "id": "gZcKyCyiPlx9"
      }
    },
    {
      "cell_type": "code",
      "source": [
        "# language = german\n",
        "# You are an AI assistant that answers questions related to tourist attractions in holiday destinations.\n",
        "# If the question is not related to the above topic, you should reply with \"I don't know about that.\"\n",
        "# You should always reply in {language}."
      ],
      "metadata": {
        "id": "qRPGUriIo0nw"
      },
      "execution_count": null,
      "outputs": []
    },
    {
      "cell_type": "markdown",
      "source": [
        "3. Build a Summarizer for product reviews, that given a review text summarizes it in only one sentence. Try it with reviews with any product you like/are interested in.\n"
      ],
      "metadata": {
        "id": "6vgq4T-kMbKW"
      }
    },
    {
      "cell_type": "code",
      "source": [
        "# You are a very concise assistant who thinks clearly,\n",
        "# understands concepts very well and can reduce larger amount of text to one single sentence\n",
        "# in order to summarize it.\n",
        "# The text can be about any given product the user asks for. You should formulate the summary of it in one sentence."
      ],
      "metadata": {
        "id": "3Q8RsrcUo5hl"
      },
      "execution_count": null,
      "outputs": []
    },
    {
      "cell_type": "markdown",
      "source": [
        "4. Build a sentiment classifier, that given a product reviews returns a label for the sentiment of the review out of positive, negative, neutral."
      ],
      "metadata": {
        "id": "W0DRYAutP3-t"
      }
    },
    {
      "cell_type": "code",
      "source": [
        "# You are a very concise assistant who can classify product reviews precisely.\n",
        "# You read the review and return a label, either 'positive', 'negative' or 'neutral'.\n",
        "# Good product, arrived in time. I really like it. // positive\n",
        "# It's okay, it does what it is supposed to do. // neutral\n",
        "# Very cheap material, do not buy it. // negative"
      ],
      "metadata": {
        "id": "kfYsfsUUp12w"
      },
      "execution_count": null,
      "outputs": []
    },
    {
      "cell_type": "markdown",
      "source": [
        "5. Below you are given a text that summarizes a meeting between a care worker and his client. You are also given a list of existing goals for that client. Your task is to define a system prompt that attributes all the information contained in the transcript to the most accurate goal or, if there is no matching goal, attributes it to a general note. The model should respond in the JSON_format below and should not ommit any information."
      ],
      "metadata": {
        "id": "-I86Ht0LQNur"
      }
    },
    {
      "cell_type": "code",
      "source": [
        "# Meeting Summary\n",
        "meeting_summary = \"\"\"\n",
        "Over the past two weeks, I have visited the patient several times.\n",
        "He is very variable in his behavior. His mood changes from day to day.\n",
        "He indicate that he has slept poorly and often stays up late. He says it is because he worries a lot about his mother.\n",
        "The patient clearly indicates that he does not want to go to the rehab clinic. He has found support with his brother and has the alcohol addiction under control.\n",
        "He claims he keeps paying his bills. However, his mother indicates he is in high debt.\n",
        "\"\"\"\n",
        "# List of goals\n",
        "list_of_goals = [\n",
        "    \"I can manage my administration.\",\n",
        "    \"I have a healthy day and night rhythm\",\n",
        "    \"I am able to discuss my emotions\",\n",
        "    \"I clean my environment/home weekly\",\n",
        "    \"I have appropriate help with my addiction\"\n",
        "]\n",
        "json_format = {\n",
        "    \"goal_related_notes\":[{\"goal_name\":\"<name of goal chosen>\",\n",
        "                           \"note\":\"<note attributed to that goal>\"}],\n",
        "    \"general_notes\":\"\"}"
      ],
      "metadata": {
        "id": "CiDW2OCoQ-xk"
      },
      "execution_count": null,
      "outputs": []
    },
    {
      "cell_type": "code",
      "source": [
        "# You are an assistant that processes meeting summaries between care workers and clients.\n",
        "# You are given a meeting transcript and a predefined list of client goals, {list_of_goals}.\n",
        "# Your task is to attribute every piece of information in the transcript to the most relevant goal.\n",
        "# If no goal is relevant, attribute the information to \"general_notes\".\n",
        "\n",
        "# Follow these rules:\n",
        "# 1. Use the provided {json_format} strictly.\n",
        "# 2. Do not omit any information from the meeting summary.\n",
        "# 3. Each note should be placed under the single most accurate goal if possible.\n",
        "# 4. If no goal is applicable, place the information in \"general_notes\".\n",
        "# 5. Keep the original meaning of the information when rephrasing into notes.\n",
        "\n",
        "# list_of_goals = [\n",
        "#     \"I can manage my administration.\",\n",
        "#     \"I have a healthy day and night rhythm\",\n",
        "#     \"I am able to discuss my emotions\",\n",
        "#     \"I clean my environment/home weekly\",\n",
        "#     \"I have appropriate help with my addiction\"\n",
        "# ]\n",
        "\n",
        "# json_format = {\n",
        "#     \"goal_related_notes\":[{\"goal_name\":\"<name of goal chosen>\",\n",
        "#                            \"note\":\"<note attributed to that goal>\"}],\n",
        "#     \"general_notes\":\"\"}"
      ],
      "metadata": {
        "id": "pSp3oqmLxTo8"
      },
      "execution_count": null,
      "outputs": []
    },
    {
      "cell_type": "markdown",
      "source": [
        "6. In the assistant section of the playground, define a chatbot that given an adequate input will either call a tool to get the current weather or the current traffic for a given location. Use the weather template tool and adjust it for the traffic case.\n"
      ],
      "metadata": {
        "id": "iO2Fi129aOHQ"
      }
    },
    {
      "cell_type": "code",
      "source": [
        "{\n",
        "  \"name\": \"get_weather\",\n",
        "  \"description\": \"Determine weather in my location\",\n",
        "  \"parameters\": {\n",
        "    \"type\": \"object\",\n",
        "    \"properties\": {\n",
        "      \"location\": {\n",
        "        \"type\": \"string\",\n",
        "        \"description\": \"The city and state e.g. Seattle, WA\"\n",
        "      },\n",
        "      \"unit\": {\n",
        "        \"type\": \"string\",\n",
        "        \"enum\": [\n",
        "          \"c\",\n",
        "          \"f\"\n",
        "        ]\n",
        "      }\n",
        "    },\n",
        "    \"required\": [\n",
        "      \"location\"\n",
        "    ]\n",
        "  }\n",
        "}"
      ],
      "metadata": {
        "id": "Q_qpjIqJWWXA"
      },
      "execution_count": null,
      "outputs": []
    },
    {
      "cell_type": "markdown",
      "source": [
        "# Coding"
      ],
      "metadata": {
        "id": "P8OMW16C2U72"
      }
    },
    {
      "cell_type": "markdown",
      "source": [
        "The following examples and assignments can be run inside your copy of the colab notebook."
      ],
      "metadata": {
        "id": "AQKb_wUe7Kg7"
      }
    },
    {
      "cell_type": "markdown",
      "source": [
        "Install the following to run the coding examples below"
      ],
      "metadata": {
        "id": "JFLD54Jy2XW4"
      }
    },
    {
      "cell_type": "code",
      "source": [
        "pip install openai"
      ],
      "metadata": {
        "id": "0MYalzvs2XDK"
      },
      "execution_count": null,
      "outputs": []
    },
    {
      "cell_type": "markdown",
      "source": [
        "## Example: Building a chatbot with the Azure Python SDK"
      ],
      "metadata": {
        "id": "OuMsS6eFBz2J"
      }
    },
    {
      "cell_type": "code",
      "source": [
        "### Calling an LLM with Python Azure SDK\n",
        "import os\n",
        "from openai import AzureOpenAI\n",
        "from google.colab import userdata\n",
        "\n",
        "client = AzureOpenAI(\n",
        "    azure_endpoint = userdata.get('AZURE_OPENAI_ENDPOINT'),\n",
        "    api_key=userdata.get('AZURE_OPENAI_API_KEY'),\n",
        "    api_version=\"2024-02-01\" )\n",
        "\n",
        "messages = [\n",
        "    {\"role\": \"system\", \"content\": \"You are a helpful assistant.\"},\n",
        "    {\"role\": \"user\", \"content\": \"Does Azure OpenAI support customer managed keys?\"},\n",
        "    ]\n",
        "\n",
        "response = client.chat.completions.create(\n",
        "    model=\"gpt-4o-mini\",\n",
        "    messages= messages )"
      ],
      "metadata": {
        "id": "bLTkDLzEr2vY"
      },
      "execution_count": null,
      "outputs": []
    },
    {
      "cell_type": "code",
      "source": [
        "# Inspect the response item\n",
        "response"
      ],
      "metadata": {
        "id": "AhhcVWfMCDLJ"
      },
      "execution_count": null,
      "outputs": []
    },
    {
      "cell_type": "code",
      "source": [
        "# Extract the response string\n",
        "response.choices[0].message.content\n"
      ],
      "metadata": {
        "id": "62I3yXjxsXmg"
      },
      "execution_count": null,
      "outputs": []
    },
    {
      "cell_type": "markdown",
      "source": [
        "## Example: Building a Chatbot with memory\n"
      ],
      "metadata": {
        "id": "mcXn7dNq7JVs"
      }
    },
    {
      "cell_type": "code",
      "source": [
        "class Chatbot:\n",
        "    def __init__(self):\n",
        "        self.client = AzureOpenAI(\n",
        "            azure_endpoint=userdata.get('AZURE_OPENAI_ENDPOINT'),\n",
        "            api_key=userdata.get('AZURE_OPENAI_API_KEY'),\n",
        "            api_version=\"2024-02-01\"\n",
        "        )\n",
        "        self.messages = [\n",
        "            {\"role\": \"system\", \"content\": \"You are a helpful assistant.\"}\n",
        "        ]\n",
        "\n",
        "    def get_response(self, user_input):\n",
        "        self.messages.append({\"role\": \"user\", \"content\": user_input})\n",
        "        response = self.client.chat.completions.create(\n",
        "            model=\"gpt-4o-mini\",\n",
        "            messages=self.messages\n",
        "        )\n",
        "        chatbot_response = response.choices[0].message.content\n",
        "        self.messages.append({\"role\": \"assistant\", \"content\": chatbot_response})\n",
        "        return chatbot_response\n",
        "\n",
        "    def reset_conversation(self):\n",
        "        self.messages = [\n",
        "            {\"role\": \"system\", \"content\": \"You are a helpful assistant.\"}\n",
        "        ]\n"
      ],
      "metadata": {
        "id": "LBidWpSYERKo"
      },
      "execution_count": null,
      "outputs": []
    },
    {
      "cell_type": "code",
      "source": [
        "chatbot = Chatbot()\n",
        "chatbot.get_response(\"What is the capital of France?\")"
      ],
      "metadata": {
        "id": "LLX1dLOEFfBI"
      },
      "execution_count": null,
      "outputs": []
    },
    {
      "cell_type": "code",
      "source": [
        "chatbot.get_response(\"and how many people live there?\")"
      ],
      "metadata": {
        "id": "dfSLxdD52tyu"
      },
      "execution_count": null,
      "outputs": []
    },
    {
      "cell_type": "markdown",
      "source": [
        "## Assignment: Make a chatbot that can be set to either respond in English or Romanian."
      ],
      "metadata": {
        "id": "T2siK1oe6P_L"
      }
    },
    {
      "cell_type": "code",
      "source": [
        "import os\n",
        "from openai import AzureOpenAI\n",
        "from google.colab import userdata\n",
        "\n",
        "# Initialize client\n",
        "client = AzureOpenAI(\n",
        "    azure_endpoint=userdata.get('AZURE_OPENAI_ENDPOINT'),\n",
        "    api_key=userdata.get('AZURE_OPENAI_API_KEY'),\n",
        "    api_version=\"2024-02-01\"\n",
        ")\n",
        "\n",
        "def chatbot(message: str, language: str = \"English\") -> str:\n",
        "    \"\"\"\n",
        "    Chatbot function that responds in English or Romanian.\n",
        "\n",
        "    Parameters:\n",
        "        message (str): The user's input.\n",
        "        language (str): \"English\" or \"Romanian\".\n",
        "\n",
        "    Returns:\n",
        "        str: The chatbot's response.\n",
        "    \"\"\"\n",
        "\n",
        "    # Instruction for language control\n",
        "    system_prompt = f\"You are a helpful assistant. Always reply in {language}.\"\n",
        "\n",
        "    messages = [\n",
        "        {\"role\": \"system\", \"content\": system_prompt},\n",
        "        {\"role\": \"user\", \"content\": message},\n",
        "    ]\n",
        "\n",
        "    response = client.chat.completions.create(\n",
        "        model=\"gpt-4o-mini\",\n",
        "        messages=messages\n",
        "    )\n",
        "\n",
        "    return response.choices[0].message.content\n",
        "\n",
        "\n",
        "# Example usage\n",
        "print(\"Chatbot in English:\")\n",
        "print(chatbot(\"Does Azure OpenAI support customer managed keys?\", language=\"English\"))\n",
        "\n",
        "print(\"\\nChatbot in Romanian:\")\n",
        "print(chatbot(\"Azure OpenAI acceptă chei gestionate de client?\", language=\"Romanian\"))\n"
      ],
      "metadata": {
        "id": "yeFYBsBK6yL1"
      },
      "execution_count": null,
      "outputs": []
    },
    {
      "cell_type": "markdown",
      "source": [
        "## Assignment: Using structured outputs"
      ],
      "metadata": {
        "id": "3zc6Aay49t50"
      }
    },
    {
      "cell_type": "markdown",
      "source": [
        "Modify the Chatbot() Class from above such that given an input query of natural language that describes the topic, time and participant of a meeting, it returns a JSON containing the name, the datetime in ISO-8601, a list of the participants and an autmatically generated agenda. Use a Pydantic Model with descriptions to define the output format."
      ],
      "metadata": {
        "id": "6Q2IqDdIIrNK"
      }
    },
    {
      "cell_type": "markdown",
      "source": [
        "*Make sure to change the api_version when initializing your AzureOpenAI client to \"2024-08-01\" and use self.client.beta.chat.completions.parse() for generating the response*"
      ],
      "metadata": {
        "id": "r7Te63IxYX4P"
      }
    },
    {
      "cell_type": "code",
      "source": [
        "from openai import AzureOpenAI\n",
        "from pydantic import BaseModel, Field\n",
        "from typing import List\n",
        "from google.colab import userdata\n",
        "import json\n",
        "\n",
        "\n",
        "class MeetingDetails(BaseModel):\n",
        "    \"\"\"Structured output format for meeting extraction.\"\"\"\n",
        "    name: str = Field(..., description=\"The title or name of the meeting\")\n",
        "    datetime: str = Field(..., description=\"The date and time of the meeting in ISO-8601 format\")\n",
        "    participants: List[str] = Field(..., description=\"List of participants attending the meeting\")\n",
        "    agenda: List[str] = Field(..., description=\"Automatically generated agenda items for the meeting\")\n",
        "\n",
        "\n",
        "\n",
        "class Chatbot:\n",
        "    def __init__(self):\n",
        "        self.client = AzureOpenAI(\n",
        "            azure_endpoint=userdata.get(\"AZURE_OPENAI_ENDPOINT\"),\n",
        "            api_key=userdata.get(\"AZURE_OPENAI_API_KEY\"),\n",
        "            api_version=\"2024-02-01\"   # only text, no structured outputs\n",
        "        )\n",
        "        self.messages = [\n",
        "            {\"role\": \"system\", \"content\": \"You are a helpful assistant that extracts structured meeting details. \"\n",
        "                                          \"Return the response in JSON strictly matching this format: \"\n",
        "                                          \"{'name': str, 'datetime': str (ISO-8601), 'participants': [str], 'agenda': [str]}.\"}\n",
        "        ]\n",
        "\n",
        "    def get_meeting_details(self, user_input: str) -> MeetingDetails:\n",
        "        self.messages.append({\"role\": \"user\", \"content\": user_input})\n",
        "\n",
        "        response = self.client.chat.completions.create(\n",
        "            model=\"gpt-4o-mini\",\n",
        "            messages=self.messages\n",
        "        )\n",
        "\n",
        "        raw_text = response.choices[0].message.content\n",
        "        data = json.loads(raw_text)\n",
        "        return MeetingDetails(**data)\n",
        "\n",
        "    def reset_conversation(self):\n",
        "        self.messages = [\n",
        "            {\"role\": \"system\", \"content\": \"You are a helpful assistant that extracts structured meeting details.\"}\n",
        "        ]"
      ],
      "metadata": {
        "id": "YfmuEIcV9x6x"
      },
      "execution_count": null,
      "outputs": []
    },
    {
      "cell_type": "code",
      "source": [
        "bot = Chatbot()\n",
        "\n",
        "query = \"Let's schedule a project kickoff meeting next Tuesday at 3 PM with Alice, Bob, and Charlie.\"\n",
        "meeting = bot.get_meeting_details(query)\n",
        "\n",
        "print(meeting.model_dump_json(indent=2))"
      ],
      "metadata": {
        "id": "imRJKYiVV5hL"
      },
      "execution_count": null,
      "outputs": []
    },
    {
      "cell_type": "markdown",
      "source": [
        "## Example: Building a chatbot with streamlit interface\n"
      ],
      "metadata": {
        "id": "WMvF4dEh7jPl"
      }
    },
    {
      "cell_type": "markdown",
      "source": [
        "For this last section of the module we will be using Streamlit ([Docs](https://docs.streamlit.io/)). Streamlit is an open-source Python framework for data scientists and AI/ML engineers to deliver apps with a simple UI in few lines of code. We will be using streamlit throughout the course to have a simple interface for the applications you are working on.\n",
        "\n",
        "Streamlit code cannot be run inside a colab notebook. To run the examples and work on the assignments you will need to create a local python repository and copy the code/files as instructed below:\n",
        "\n"
      ],
      "metadata": {
        "id": "ul2DrBOW7T2A"
      }
    },
    {
      "cell_type": "markdown",
      "source": [
        "Make sure you have Python installed on your system. You can follow this guide to setup Python for use in VS Code: https://code.visualstudio.com/docs/python/python-tutorial"
      ],
      "metadata": {
        "id": "1wIsB8s2ZMGz"
      }
    },
    {
      "cell_type": "markdown",
      "source": [
        "- Via terminal make a venv with python -m .venv venv\n",
        "- Via terminal activate your venv\n",
        " - on Windows with .venv\\Scripts\\activate\n",
        " - on macOs & Linux source .venv/bin/activate\n",
        "\n",
        "\n"
      ],
      "metadata": {
        "id": "qaKqwOzFeJpf"
      }
    },
    {
      "cell_type": "markdown",
      "source": [],
      "metadata": {
        "id": "KBNq7THnZJfe"
      }
    },
    {
      "cell_type": "markdown",
      "source": [
        "- Make a .env file"
      ],
      "metadata": {
        "id": "ADgv9AJHBxV7"
      }
    },
    {
      "cell_type": "code",
      "source": [
        "AZURE_OPENAI_ENDPOINT=<insert endpoint>\n",
        "AZURE_OPENAI_API_KEY=<insert key>"
      ],
      "metadata": {
        "id": "FBggOi1bByTa"
      },
      "execution_count": null,
      "outputs": []
    },
    {
      "cell_type": "markdown",
      "source": [
        "- Make a requirements.txt file"
      ],
      "metadata": {
        "id": "FwYTzO3pBsTX"
      }
    },
    {
      "cell_type": "code",
      "source": [
        "streamlit==1.41.1\n",
        "openai==1.59.9"
      ],
      "metadata": {
        "id": "WcLm7PjSB-r6"
      },
      "execution_count": null,
      "outputs": []
    },
    {
      "cell_type": "markdown",
      "source": [
        "- Install the requirements via terminal with pip install -r requirements.txt\n",
        "- Copy the content below in an app.py file\n",
        "- via terminal execute streamlit run app.py"
      ],
      "metadata": {
        "id": "SDJek9InBr00"
      }
    },
    {
      "cell_type": "code",
      "source": [
        "from openai import AzureOpenAI\n",
        "import streamlit as st\n",
        "import os\n",
        "\n",
        "st.title(\"Basic chatbot\")\n",
        "\n",
        "\n",
        "if \"client\" not in st.session_state:\n",
        "        st.session_state.client = AzureOpenAI(\n",
        "    azure_endpoint = os.environ.get('AZURE_OPENAI_ENDPOINT'),\n",
        "    api_key=os.environ.get('AZURE_OPENAI_API_KEY'),\n",
        "    api_version=\"2024-06-01\" )\n",
        "\n",
        "if \"chat_history\" not in st.session_state:\n",
        "    st.session_state.chat_history = []\n",
        "\n",
        "for message in st.session_state.chat_history:\n",
        "    with st.chat_message(message[\"role\"]):\n",
        "        st.markdown(message[\"content\"])\n",
        "\n",
        "if prompt := st.chat_input(\"What is up?\"):\n",
        "    st.session_state.chat_history.append({\"role\": \"user\", \"content\": prompt})\n",
        "    with st.chat_message(\"user\"):\n",
        "        st.markdown(prompt)\n",
        "\n",
        "    with st.chat_message(\"assistant\"):\n",
        "        stream = st.session_state.client.chat.completions.create(\n",
        "            model='gpt-4o-mini',\n",
        "            messages=[\n",
        "                {\"role\": m[\"role\"], \"content\": m[\"content\"]}\n",
        "                for m in st.session_state.chat_history\n",
        "            ],\n",
        "            stream=True,\n",
        "        )\n",
        "        response = st.write_stream(stream)\n",
        "    st.session_state.chat_history.append({\"role\": \"assistant\", \"content\": response})"
      ],
      "metadata": {
        "id": "GLeIROd4tLyG"
      },
      "execution_count": null,
      "outputs": []
    },
    {
      "cell_type": "markdown",
      "source": [
        "## Assignments Streamlit Chatbot:\n"
      ],
      "metadata": {
        "id": "BCpjrs56K_qT"
      }
    },
    {
      "cell_type": "markdown",
      "source": [
        "Consult the streamlit documentation to work on the following assignments: [Streamlit Documentation](https://docs.streamlit.io/)"
      ],
      "metadata": {
        "id": "gRyFI4gP9RSa"
      }
    },
    {
      "cell_type": "markdown",
      "source": [
        "1. Add a System prompt specifying that the chatbot should always respond in Romanian."
      ],
      "metadata": {
        "id": "Zf-ALHzjmLVi"
      }
    },
    {
      "cell_type": "code",
      "source": [],
      "metadata": {
        "id": "l5_ri3bQmYJh"
      },
      "execution_count": null,
      "outputs": []
    },
    {
      "cell_type": "markdown",
      "source": [
        "2. Add a reset button to restart the conversation"
      ],
      "metadata": {
        "id": "oJ1M1j3XmPvS"
      }
    },
    {
      "cell_type": "markdown",
      "source": [
        "*Hint: Use st.button()*"
      ],
      "metadata": {
        "id": "2BztqQG9_4eW"
      }
    },
    {
      "cell_type": "code",
      "source": [],
      "metadata": {
        "id": "QCPp-UgymNDy"
      },
      "execution_count": null,
      "outputs": []
    },
    {
      "cell_type": "markdown",
      "source": [
        "3. Add a sidebar with a text field that allows you to specify the language of\n",
        "the chatbot"
      ],
      "metadata": {
        "id": "OhFzsWtZmUkx"
      }
    },
    {
      "cell_type": "markdown",
      "source": [
        "*Hint: Use st.sidebar()*"
      ],
      "metadata": {
        "id": "uVRymyAq_8af"
      }
    },
    {
      "cell_type": "code",
      "source": [],
      "metadata": {
        "id": "GqKBYAktmNrL"
      },
      "execution_count": null,
      "outputs": []
    },
    {
      "cell_type": "markdown",
      "source": [
        "\n",
        "4. Add a control plane to the sidebar that sets the temperature"
      ],
      "metadata": {
        "id": "rdFkYHk58SBk"
      }
    },
    {
      "cell_type": "markdown",
      "source": [
        "*Hint: Use st.slider()*"
      ],
      "metadata": {
        "id": "CFAkTzD2AEEg"
      }
    },
    {
      "cell_type": "code",
      "source": [],
      "metadata": {
        "id": "jNWk8QR8UR-6"
      },
      "execution_count": null,
      "outputs": []
    }
  ]
}