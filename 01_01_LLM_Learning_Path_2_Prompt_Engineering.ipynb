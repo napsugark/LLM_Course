{
  "nbformat": 4,
  "nbformat_minor": 0,
  "metadata": {
    "colab": {
      "provenance": [],
      "private_outputs": true,
      "include_colab_link": true
    },
    "kernelspec": {
      "name": "python3",
      "display_name": "Python 3"
    },
    "language_info": {
      "name": "python"
    }
  },
  "cells": [
    {
      "cell_type": "markdown",
      "metadata": {
        "id": "view-in-github",
        "colab_type": "text"
      },
      "source": [
        "<a href=\"https://colab.research.google.com/github/napsugark/LLM_Course/blob/main/01_01_LLM_Learning_Path_2_Prompt_Engineering.ipynb\" target=\"_parent\"><img src=\"https://colab.research.google.com/assets/colab-badge.svg\" alt=\"Open In Colab\"/></a>"
      ]
    },
    {
      "cell_type": "markdown",
      "source": [
        "\n",
        "# **Prompt Engineering**"
      ],
      "metadata": {
        "id": "rV1AILhzELgM"
      }
    },
    {
      "cell_type": "markdown",
      "source": [
        "Link to older version: https://colab.research.google.com/drive/1wDqGnN_O8YfyMknQ4ArERsNiaLwea6B-"
      ],
      "metadata": {
        "id": "irFtEIICTHkl"
      }
    },
    {
      "cell_type": "markdown",
      "source": [
        "# Concepts to know\n"
      ],
      "metadata": {
        "id": "e0wrBqMsEJcC"
      }
    },
    {
      "cell_type": "markdown",
      "source": [
        "At the end of this module you should have an understanding of the following concepts:"
      ],
      "metadata": {
        "id": "l3sRWgYl0PlV"
      }
    },
    {
      "cell_type": "markdown",
      "source": [
        "- System Prompt\n",
        "- Chain of Thought\n",
        "- Few-Shot-Prompting\n",
        "- Prompt Chaining\n",
        "- Prompt Caching\n",
        "- Temperature\n",
        "- Top P\n",
        "- Presence/Frequency penalty\n",
        "- Structured Output\n",
        "- Function calling\n"
      ],
      "metadata": {
        "id": "_OnPDWm577oq"
      }
    },
    {
      "cell_type": "markdown",
      "source": [
        "# Materials\n"
      ],
      "metadata": {
        "id": "7AIipnHRDvgr"
      }
    },
    {
      "cell_type": "markdown",
      "source": [
        "### Mandatory\n",
        "\n",
        "Introduction course to Prompt Engineering:\n",
        "\n",
        "- https://www.coursera.org/projects/chatgpt-prompt-engineering-for-developers-project#outcomes\"\n",
        "\n",
        "Prompting guide (go through the Introduction Section and explore some of the Prompting Techniques):\n",
        "\n",
        "- https://www.promptingguide.ai/\n",
        "\n",
        "Prompt Caching:\n",
        "- https://learn.microsoft.com/en-us/azure/ai-services/openai/how-to/prompt-caching\n"
      ],
      "metadata": {
        "id": "UnKyGLJ_8IKQ"
      }
    },
    {
      "cell_type": "markdown",
      "source": [
        "### Optional"
      ],
      "metadata": {
        "id": "HB4FFCSOQvvi"
      }
    },
    {
      "cell_type": "markdown",
      "source": [
        "General resources on prompting:\n",
        "\n",
        "- https://fvivas.com/en/19-formulas-and-prompt-structures-for-chatgpt/\n",
        "- https://learn.microsoft.com/en-us/azure/ai-services/openai/concepts/prompt-engineering?tabs=chat\n",
        "\n",
        "\n",
        "OpenAI Parameters:\n",
        "\n",
        "- https://www.prompthub.us/blog/understanding-openai-parameters-how-to-optimize-your-prompts-for-better-outputs\n",
        "\n",
        "Azure OpenAI APIs:\n",
        "\n",
        "- https://learn.microsoft.com/en-us/azure/ai-services/openai/how-to/function-calling\n",
        "- https://learn.microsoft.com/en-us/azure/ai-services/openai/how-to/structured-outputs?tabs=python-secure"
      ],
      "metadata": {
        "id": "KtCgV7MZQ0xf"
      }
    },
    {
      "cell_type": "markdown",
      "source": [
        "# Azure Playground Assignments\n",
        "\n"
      ],
      "metadata": {
        "id": "DJMnqKVXEXPF"
      }
    },
    {
      "cell_type": "markdown",
      "source": [
        "You will complete the assignments in this sections in the Azure Playground. This is a UI layer around the Azure OpenAI endpoints that let's you build and experiment quickly with simple setups.\n",
        "\n",
        "For the assignments 1-5 you will need to use Playgrounds - Chat Section, for the last assignment move to the Playgrounds Assistants Section.\n",
        "\n",
        "Go to the [Azure Playground](https://ai.azure.com/resource/playground?wsid=/subscriptions/6f636525-4ca3-4447-841d-59b771d713b5/resourceGroups/MLResearch/providers/Microsoft.CognitiveServices/accounts/llm-learning-path&tid=39affebe-f048-4c77-ba6b-90cd8be22d25&deploymentId=/subscriptions/6f636525-4ca3-4447-841d-59b771d713b5/resourceGroups/MLResearch/providers/Microsoft.CognitiveServices/accounts/llm-learning-path/deployments/gpt-4o-mini). If you have any problems accessing the playground, please let your mentors know.\n",
        "\n"
      ],
      "metadata": {
        "id": "4c1gypwG73z8"
      }
    },
    {
      "cell_type": "markdown",
      "source": [
        "To help you get started in the playground and its functionalities, you can refer to this [guide](https://learn.microsoft.com/en-us/azure/ai-services/openai/chatgpt-quickstart?tabs=command-line%2Ckeyless%2Ctypescript-keyless%2Cpython-new&pivots=programming-language-studio)."
      ],
      "metadata": {
        "id": "PcKcnZN36GXr"
      }
    },
    {
      "cell_type": "markdown",
      "source": [
        "1. Define a chatbot that is only answering questions related to tourist attractions in your favourite holiday destinations. For any off-topic questions he should reply with \"I don't know about that\". Then, try to trick him into answering other questions.\n"
      ],
      "metadata": {
        "id": "fRzCJ0NdMXol"
      }
    },
    {
      "cell_type": "markdown",
      "source": [
        "2. Introduce a variable in the system prompt to change the response into any language.\n"
      ],
      "metadata": {
        "id": "gZcKyCyiPlx9"
      }
    },
    {
      "cell_type": "markdown",
      "source": [
        "3. Build a Summarizer for product reviews, that given a review text summarizes it in only one sentence. Try it with reviews with any product you like/are interested in.\n"
      ],
      "metadata": {
        "id": "6vgq4T-kMbKW"
      }
    },
    {
      "cell_type": "markdown",
      "source": [
        "4. Build a sentiment classifier, that given a product reviews returns a label for the sentiment of the review out of positive, negative, neutral."
      ],
      "metadata": {
        "id": "W0DRYAutP3-t"
      }
    },
    {
      "cell_type": "markdown",
      "source": [
        "5. Below you are given a text that summarizes a meeting between a care worker and his client. You are also given a list of existing goals for that client. Your task is to define a system prompt that attributes all the information contained in the transcript to the most accurate goal or, if there is no matching goal, attributes it to a general note. The model should respond in the JSON_format below and should not ommit any information."
      ],
      "metadata": {
        "id": "-I86Ht0LQNur"
      }
    },
    {
      "cell_type": "code",
      "source": [
        "# Meeting Summary\n",
        "meeting_summary = \"\"\"\n",
        "Over the past two weeks, I have visited the patient several times.\n",
        "He is very variable in his behavior. His mood changes from day to day.\n",
        "He indicate that he has slept poorly and often stays up late. He says it is because he worries a lot about his mother.\n",
        "The patient clearly indicates that he does not want to go to the rehab clinic. He has found support with his brother and has the alcohol addiction under control.\n",
        "He claims he keeps paying his bills. However, his mother indicates he is in high debt.\n",
        "\"\"\"\n",
        "# List of goals\n",
        "list_of_goals = [\n",
        "    \"I can manage my administration.\",\n",
        "    \"I have a healthy day and night rhythm\",\n",
        "    \"I am able to discuss my emotions\",\n",
        "    \"I clean my environment/home weekly\",\n",
        "    \"I have appropriate help with my addiction\"\n",
        "]\n",
        "json_format = {\n",
        "    \"goal_related_notes\":[{\"goal_name\":\"<name of goal chosen>\",\n",
        "                           \"note\":\"<note attributed to that goal>\"}],\n",
        "    \"general_notes\":\"\"}"
      ],
      "metadata": {
        "id": "CiDW2OCoQ-xk"
      },
      "execution_count": null,
      "outputs": []
    },
    {
      "cell_type": "markdown",
      "source": [
        "6. In the assistant section of the playground, define a chatbot that given an adequate input will either call a tool to get the current weather or the current traffic for a given location. Use the weather template tool and adjust it for the traffic case.\n"
      ],
      "metadata": {
        "id": "iO2Fi129aOHQ"
      }
    },
    {
      "cell_type": "code",
      "source": [
        "{\n",
        "  \"name\": \"get_weather\",\n",
        "  \"description\": \"Determine weather in my location\",\n",
        "  \"parameters\": {\n",
        "    \"type\": \"object\",\n",
        "    \"properties\": {\n",
        "      \"location\": {\n",
        "        \"type\": \"string\",\n",
        "        \"description\": \"The city and state e.g. Seattle, WA\"\n",
        "      },\n",
        "      \"unit\": {\n",
        "        \"type\": \"string\",\n",
        "        \"enum\": [\n",
        "          \"c\",\n",
        "          \"f\"\n",
        "        ]\n",
        "      }\n",
        "    },\n",
        "    \"required\": [\n",
        "      \"location\"\n",
        "    ]\n",
        "  }\n",
        "}"
      ],
      "metadata": {
        "id": "Q_qpjIqJWWXA"
      },
      "execution_count": null,
      "outputs": []
    },
    {
      "cell_type": "markdown",
      "source": [
        "# Coding"
      ],
      "metadata": {
        "id": "P8OMW16C2U72"
      }
    },
    {
      "cell_type": "markdown",
      "source": [
        "The following examples and assignments can be run inside your copy of the colab notebook."
      ],
      "metadata": {
        "id": "AQKb_wUe7Kg7"
      }
    },
    {
      "cell_type": "markdown",
      "source": [
        "Install the following to run the coding examples below"
      ],
      "metadata": {
        "id": "JFLD54Jy2XW4"
      }
    },
    {
      "cell_type": "code",
      "source": [
        "pip install openai"
      ],
      "metadata": {
        "id": "0MYalzvs2XDK"
      },
      "execution_count": null,
      "outputs": []
    },
    {
      "cell_type": "markdown",
      "source": [
        "## Example: Building a chatbot with the Azure Python SDK"
      ],
      "metadata": {
        "id": "OuMsS6eFBz2J"
      }
    },
    {
      "cell_type": "code",
      "source": [
        "### Calling an LLM with Python Azure SDK\n",
        "import os\n",
        "from openai import AzureOpenAI\n",
        "from google.colab import userdata\n",
        "\n",
        "client = AzureOpenAI(\n",
        "    azure_endpoint = userdata.get('AZURE_OPENAI_ENDPOINT'),\n",
        "    api_key=userdata.get('AZURE_OPENAI_API_KEY'),\n",
        "    api_version=\"2024-02-01\" )\n",
        "\n",
        "messages = [\n",
        "    {\"role\": \"system\", \"content\": \"You are a helpful assistant.\"},\n",
        "    {\"role\": \"user\", \"content\": \"Does Azure OpenAI support customer managed keys?\"},\n",
        "    ]\n",
        "\n",
        "response = client.chat.completions.create(\n",
        "    model=\"gpt-4o-mini\",\n",
        "    messages= messages )"
      ],
      "metadata": {
        "id": "bLTkDLzEr2vY"
      },
      "execution_count": null,
      "outputs": []
    },
    {
      "cell_type": "code",
      "source": [
        "# Inspect the response item\n",
        "response"
      ],
      "metadata": {
        "id": "AhhcVWfMCDLJ"
      },
      "execution_count": null,
      "outputs": []
    },
    {
      "cell_type": "code",
      "source": [
        "# Extract the response string\n",
        "response.choices[0].message.content\n"
      ],
      "metadata": {
        "id": "62I3yXjxsXmg"
      },
      "execution_count": null,
      "outputs": []
    },
    {
      "cell_type": "markdown",
      "source": [
        "## Example: Building a Chatbot with memory\n"
      ],
      "metadata": {
        "id": "mcXn7dNq7JVs"
      }
    },
    {
      "cell_type": "code",
      "source": [
        "class Chatbot:\n",
        "    def __init__(self):\n",
        "        self.client = AzureOpenAI(\n",
        "            azure_endpoint=userdata.get('AZURE_OPENAI_ENDPOINT'),\n",
        "            api_key=userdata.get('AZURE_OPENAI_API_KEY'),\n",
        "            api_version=\"2024-02-01\"\n",
        "        )\n",
        "        self.messages = [\n",
        "            {\"role\": \"system\", \"content\": \"You are a helpful assistant.\"}\n",
        "        ]\n",
        "\n",
        "    def get_response(self, user_input):\n",
        "        self.messages.append({\"role\": \"user\", \"content\": user_input})\n",
        "        response = self.client.chat.completions.create(\n",
        "            model=\"gpt-4o-mini\",\n",
        "            messages=self.messages\n",
        "        )\n",
        "        chatbot_response = response.choices[0].message.content\n",
        "        self.messages.append({\"role\": \"assistant\", \"content\": chatbot_response})\n",
        "        return chatbot_response\n",
        "\n",
        "    def reset_conversation(self):\n",
        "        self.messages = [\n",
        "            {\"role\": \"system\", \"content\": \"You are a helpful assistant.\"}\n",
        "        ]\n"
      ],
      "metadata": {
        "id": "LBidWpSYERKo"
      },
      "execution_count": null,
      "outputs": []
    },
    {
      "cell_type": "code",
      "source": [
        "chatbot = Chatbot()\n",
        "chatbot.get_response(\"What is the capital of France?\")"
      ],
      "metadata": {
        "id": "LLX1dLOEFfBI"
      },
      "execution_count": null,
      "outputs": []
    },
    {
      "cell_type": "code",
      "source": [
        "chatbot.get_response(\"and how many people live there?\")"
      ],
      "metadata": {
        "id": "dfSLxdD52tyu"
      },
      "execution_count": null,
      "outputs": []
    },
    {
      "cell_type": "markdown",
      "source": [
        "## Assignment: Make a chatbot that can be set to either respond in English or Romanian."
      ],
      "metadata": {
        "id": "T2siK1oe6P_L"
      }
    },
    {
      "cell_type": "code",
      "source": [
        "\n"
      ],
      "metadata": {
        "id": "yeFYBsBK6yL1"
      },
      "execution_count": null,
      "outputs": []
    },
    {
      "cell_type": "markdown",
      "source": [
        "## Assignment: Using structured outputs"
      ],
      "metadata": {
        "id": "3zc6Aay49t50"
      }
    },
    {
      "cell_type": "markdown",
      "source": [
        "Modify the Chatbot() Class from above such that given an input query of natural language that describes the topic, time and participant of a meeting, it returns a JSON containing the name, the datetime in ISO-8601, a list of the participants and an autmatically generated agenda. Use a Pydantic Model with descriptions to define the output format."
      ],
      "metadata": {
        "id": "6Q2IqDdIIrNK"
      }
    },
    {
      "cell_type": "markdown",
      "source": [
        "*Make sure to change the api_version when initializing your AzureOpenAI client to \"2024-08-01\" and use self.client.beta.chat.completions.parse() for generating the response*"
      ],
      "metadata": {
        "id": "r7Te63IxYX4P"
      }
    },
    {
      "cell_type": "code",
      "source": [],
      "metadata": {
        "id": "YfmuEIcV9x6x"
      },
      "execution_count": null,
      "outputs": []
    },
    {
      "cell_type": "markdown",
      "source": [
        "## Example: Building a chatbot with chainlit interface\n"
      ],
      "metadata": {
        "id": "WMvF4dEh7jPl"
      }
    },
    {
      "cell_type": "markdown",
      "source": [
        "For this last section of the module we will be using Chainlit ([Docs](https://docs.chainlit.io/get-started/overview)). Chainlit is an open-source Python framework for data scientists and AI/ML engineers to deliver apps with a simple UI in few lines of code. We will be using chainlit throughout the course to have a simple interface for the applications you are working on.\n",
        "\n",
        "To run the examples and work on the assignments you will need to create a local python repository and copy the code/files as instructed below:\n",
        "\n"
      ],
      "metadata": {
        "id": "ul2DrBOW7T2A"
      }
    },
    {
      "cell_type": "markdown",
      "source": [
        "Make sure you have Python installed on your system. You can follow this guide to setup Python for use in VS Code: https://code.visualstudio.com/docs/python/python-tutorial"
      ],
      "metadata": {
        "id": "1wIsB8s2ZMGz"
      }
    },
    {
      "cell_type": "markdown",
      "source": [
        "- Via terminal make a venv with python -m .venv venv\n",
        "- Via terminal activate your venv\n",
        " - on Windows with .venv\\Scripts\\activate\n",
        " - on macOs & Linux source .venv/bin/activate\n",
        "\n",
        "\n"
      ],
      "metadata": {
        "id": "qaKqwOzFeJpf"
      }
    },
    {
      "cell_type": "markdown",
      "source": [],
      "metadata": {
        "id": "KBNq7THnZJfe"
      }
    },
    {
      "cell_type": "markdown",
      "source": [
        "- Make a .env file"
      ],
      "metadata": {
        "id": "ADgv9AJHBxV7"
      }
    },
    {
      "cell_type": "code",
      "source": [
        "AZURE_OPENAI_ENDPOINT=<insert endpoint>\n",
        "AZURE_OPENAI_API_KEY=<insert key>"
      ],
      "metadata": {
        "id": "FBggOi1bByTa"
      },
      "execution_count": null,
      "outputs": []
    },
    {
      "cell_type": "markdown",
      "source": [
        "- Make a requirements.txt file"
      ],
      "metadata": {
        "id": "FwYTzO3pBsTX"
      }
    },
    {
      "cell_type": "code",
      "source": [
        "chainlit==2.5.5\n",
        "openai==1.86.0\n",
        "python-dotenv"
      ],
      "metadata": {
        "id": "WcLm7PjSB-r6"
      },
      "execution_count": null,
      "outputs": []
    },
    {
      "cell_type": "markdown",
      "source": [
        "- Install the requirements via terminal with pip install -r requirements.txt\n",
        "- Copy the content below in an app.py file\n",
        "- via terminal execute chainlit run app.py -w"
      ],
      "metadata": {
        "id": "SDJek9InBr00"
      }
    },
    {
      "cell_type": "code",
      "source": [
        "from openai import AzureOpenAI\n",
        "import chainlit as cl\n",
        "import os\n",
        "from dotenv import find_dotenv, load_dotenv\n",
        "\n",
        "load_dotenv(find_dotenv())\n",
        "\n",
        "@cl.on_chat_start\n",
        "async def start_chat():\n",
        "    cl.user_session.set(\"client\", AzureOpenAI(\n",
        "        azure_endpoint=os.environ.get('AZURE_OPENAI_ENDPOINT'),\n",
        "        api_key=os.environ.get('AZURE_OPENAI_API_KEY'),\n",
        "        api_version=\"2024-06-01\"\n",
        "    ))\n",
        "    cl.user_session.set(\"chat_history\", [])\n",
        "\n",
        "\n",
        "@cl.on_message\n",
        "async def handle_message(message: cl.Message):\n",
        "\n",
        "    msg = cl.Message(content=\"\")\n",
        "\n",
        "    chat_history = cl.user_session.get(\"chat_history\", [])\n",
        "    chat_history.append({\"role\": \"user\", \"content\": f\"QUESTION: {message.content}\"})\n",
        "\n",
        "    response = cl.user_session.get(\"client\").chat.completions.create(\n",
        "        model=\"gpt-4o-mini\",\n",
        "        messages=[\n",
        "            {\"role\": m[\"role\"], \"content\": m[\"content\"]}\n",
        "            for m in chat_history\n",
        "        ],\n",
        "        stream=True\n",
        "    )\n",
        "\n",
        "    for chunk in response:\n",
        "        if not chunk.choices or not chunk.choices[0].delta:\n",
        "            continue\n",
        "        delta = chunk.choices[0].delta.content or \"\"\n",
        "        await msg.stream_token(delta)\n",
        "\n",
        "    # Update chat history\n",
        "    chat_history.append({\"role\": \"user\", \"content\": message.content})\n",
        "    chat_history.append({\"role\": \"assistant\", \"content\": msg.content})\n",
        "    cl.user_session.set(\"chat_history\", chat_history)\n",
        "    await msg.update()"
      ],
      "metadata": {
        "id": "GLeIROd4tLyG"
      },
      "execution_count": null,
      "outputs": []
    },
    {
      "cell_type": "markdown",
      "source": [
        "## Assignments Chainlit Chatbot:\n"
      ],
      "metadata": {
        "id": "BCpjrs56K_qT"
      }
    },
    {
      "cell_type": "markdown",
      "source": [
        "Consult the chainlit documentation to work on the following assignments: [Chainlit Documentation](https://docs.chainlit.io/get-started/overview)"
      ],
      "metadata": {
        "id": "gRyFI4gP9RSa"
      }
    },
    {
      "cell_type": "markdown",
      "source": [
        "1. Add a System prompt specifying that the chatbot should always respond in Romanian."
      ],
      "metadata": {
        "id": "Zf-ALHzjmLVi"
      }
    },
    {
      "cell_type": "code",
      "source": [],
      "metadata": {
        "id": "l5_ri3bQmYJh"
      },
      "execution_count": null,
      "outputs": []
    },
    {
      "cell_type": "markdown",
      "source": [
        "2. Add a reset button to restart the conversation"
      ],
      "metadata": {
        "id": "oJ1M1j3XmPvS"
      }
    },
    {
      "cell_type": "markdown",
      "source": [
        "*Hint: Use chainlit actions*"
      ],
      "metadata": {
        "id": "2BztqQG9_4eW"
      }
    },
    {
      "cell_type": "code",
      "source": [],
      "metadata": {
        "id": "QCPp-UgymNDy"
      },
      "execution_count": null,
      "outputs": []
    },
    {
      "cell_type": "code",
      "source": [],
      "metadata": {
        "id": "EHUYqtYp0ilu"
      },
      "execution_count": null,
      "outputs": []
    },
    {
      "cell_type": "markdown",
      "source": [
        "3. Add a setting option with a select field that allows you to specify the language of\n",
        "the chatbot"
      ],
      "metadata": {
        "id": "OhFzsWtZmUkx"
      }
    },
    {
      "cell_type": "markdown",
      "source": [
        "*Hint: Use chainlit's Select input widget*"
      ],
      "metadata": {
        "id": "uVRymyAq_8af"
      }
    },
    {
      "cell_type": "code",
      "source": [],
      "metadata": {
        "id": "GqKBYAktmNrL"
      },
      "execution_count": null,
      "outputs": []
    },
    {
      "cell_type": "markdown",
      "source": [
        "\n",
        "4. Add a Slider to the settings that sets the temperature"
      ],
      "metadata": {
        "id": "rdFkYHk58SBk"
      }
    },
    {
      "cell_type": "markdown",
      "source": [
        "*Hint: Use chainlit's slider input widget*"
      ],
      "metadata": {
        "id": "CFAkTzD2AEEg"
      }
    },
    {
      "cell_type": "code",
      "source": [],
      "metadata": {
        "id": "jNWk8QR8UR-6"
      },
      "execution_count": null,
      "outputs": []
    }
  ]
}